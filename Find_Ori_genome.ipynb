{
  "nbformat": 4,
  "nbformat_minor": 0,
  "metadata": {
    "colab": {
      "name": "Find_Ori_genome.ipynb",
      "provenance": [],
      "collapsed_sections": [],
      "authorship_tag": "ABX9TyNHd6JWeIxDI0RrFGcTILwA",
      "include_colab_link": true
    },
    "kernelspec": {
      "name": "python3",
      "display_name": "Python 3"
    },
    "language_info": {
      "name": "python"
    }
  },
  "cells": [
    {
      "cell_type": "markdown",
      "metadata": {
        "id": "view-in-github",
        "colab_type": "text"
      },
      "source": [
        "<a href=\"https://colab.research.google.com/github/aartipnair/genetic_algorithm_practice/blob/main/Find_Ori_genome.ipynb\" target=\"_parent\"><img src=\"https://colab.research.google.com/assets/colab-badge.svg\" alt=\"Open In Colab\"/></a>"
      ]
    },
    {
      "cell_type": "code",
      "metadata": {
        "id": "gv3KqNvOs9-1",
        "colab": {
          "base_uri": "https://localhost:8080/"
        },
        "outputId": "6a336af8-c66d-4fc9-ed32-0d4eceae79d5"
      },
      "source": [
        "genome = 'ATAAGGCCATGATGATGAACCAGCTAGGGTTCCAAACTGGACATCAGTACAGTAAATGATGATG'\n",
        "#pattern = 'ATG'\n",
        "\n",
        "bucket_list =[]\n",
        "\n",
        "for i in range(len(genome)-2):  \n",
        "  bucket_list.append(genome[i]+genome[i+1]+genome[i+2])\n",
        "\n",
        "bucket_list.sort()\n",
        "\n",
        "print(len(bucket_list))"
      ],
      "execution_count": 47,
      "outputs": [
        {
          "output_type": "stream",
          "text": [
            "62\n"
          ],
          "name": "stdout"
        }
      ]
    },
    {
      "cell_type": "code",
      "metadata": {
        "id": "SzuhZkj9sOKz"
      },
      "source": [
        "class Find_ori:\n",
        "  def __init__(self, genome_list, pattern = None):\n",
        "    self.genome_list = genome_list\n",
        "    self.pattern = pattern\n",
        "\n",
        "  def find_hidden_message(self): \n",
        "    counter = 0 \n",
        "    hidden_message = self.genome_list[0]\n",
        "\n",
        "    for p in self.genome_list:\n",
        "      curr_frequency = self.genome_list.count(p)\n",
        "\n",
        "      if (curr_frequency> counter):      \n",
        "        counter = curr_frequency    \n",
        "        hidden_message =  p\n",
        "\n",
        "\n",
        "    print('Hence ORI (hidden message): : ',hidden_message)\n",
        "    print('number of times : ', counter)\n",
        "\n",
        "    \n",
        "\n",
        "\n"
      ],
      "execution_count": 52,
      "outputs": []
    },
    {
      "cell_type": "code",
      "metadata": {
        "id": "cvoY6GwQ4BV-"
      },
      "source": [
        "find_obj = Find_ori(bucket_list,None)\n",
        "find_obj.find_hidden_message()"
      ],
      "execution_count": null,
      "outputs": []
    }
  ]
}